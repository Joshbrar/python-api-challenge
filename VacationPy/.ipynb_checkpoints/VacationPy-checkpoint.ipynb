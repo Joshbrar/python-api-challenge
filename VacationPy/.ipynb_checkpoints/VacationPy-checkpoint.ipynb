{
 "cells": [
  {
   "cell_type": "code",
   "execution_count": 15,
   "metadata": {},
   "outputs": [],
   "source": [
    "# Dependencies and Setup\n",
    "import matplotlib.pyplot as plt\n",
    "import pandas as pd\n",
    "import numpy as np\n",
    "import requests\n",
    "import gmaps\n",
    "import os\n",
    "\n",
    "# Import API key\n",
    "from api_keys import g_key"
   ]
  },
  {
   "cell_type": "markdown",
   "metadata": {},
   "source": [
    "### Store Part I results into DataFrame\n",
    "* Load the csv exported in Part I to a DataFrame"
   ]
  },
  {
   "cell_type": "code",
   "execution_count": 16,
   "metadata": {},
   "outputs": [
    {
     "data": {
      "text/html": [
       "<div>\n",
       "<style scoped>\n",
       "    .dataframe tbody tr th:only-of-type {\n",
       "        vertical-align: middle;\n",
       "    }\n",
       "\n",
       "    .dataframe tbody tr th {\n",
       "        vertical-align: top;\n",
       "    }\n",
       "\n",
       "    .dataframe thead th {\n",
       "        text-align: right;\n",
       "    }\n",
       "</style>\n",
       "<table border=\"1\" class=\"dataframe\">\n",
       "  <thead>\n",
       "    <tr style=\"text-align: right;\">\n",
       "      <th></th>\n",
       "      <th>Unnamed: 0</th>\n",
       "      <th>City</th>\n",
       "      <th>Country</th>\n",
       "      <th>Latitude</th>\n",
       "      <th>longitude</th>\n",
       "      <th>Temperature (F)</th>\n",
       "      <th>Humidity (%)</th>\n",
       "      <th>Cloudiness (%)</th>\n",
       "      <th>Wind Speed (MPH)</th>\n",
       "    </tr>\n",
       "  </thead>\n",
       "  <tbody>\n",
       "    <tr>\n",
       "      <th>0</th>\n",
       "      <td>0</td>\n",
       "      <td>Arraial do Cabo</td>\n",
       "      <td>BR</td>\n",
       "      <td>-22.97</td>\n",
       "      <td>-42.03</td>\n",
       "      <td>77.00</td>\n",
       "      <td>88</td>\n",
       "      <td>90</td>\n",
       "      <td>8.05</td>\n",
       "    </tr>\n",
       "    <tr>\n",
       "      <th>1</th>\n",
       "      <td>1</td>\n",
       "      <td>Kondagaon</td>\n",
       "      <td>IN</td>\n",
       "      <td>19.60</td>\n",
       "      <td>81.67</td>\n",
       "      <td>66.47</td>\n",
       "      <td>63</td>\n",
       "      <td>0</td>\n",
       "      <td>5.48</td>\n",
       "    </tr>\n",
       "    <tr>\n",
       "      <th>2</th>\n",
       "      <td>2</td>\n",
       "      <td>Vardø</td>\n",
       "      <td>NO</td>\n",
       "      <td>70.37</td>\n",
       "      <td>31.11</td>\n",
       "      <td>33.80</td>\n",
       "      <td>80</td>\n",
       "      <td>90</td>\n",
       "      <td>27.51</td>\n",
       "    </tr>\n",
       "    <tr>\n",
       "      <th>3</th>\n",
       "      <td>3</td>\n",
       "      <td>Pevek</td>\n",
       "      <td>RU</td>\n",
       "      <td>69.70</td>\n",
       "      <td>170.31</td>\n",
       "      <td>18.73</td>\n",
       "      <td>95</td>\n",
       "      <td>94</td>\n",
       "      <td>7.29</td>\n",
       "    </tr>\n",
       "    <tr>\n",
       "      <th>4</th>\n",
       "      <td>4</td>\n",
       "      <td>Longyearbyen</td>\n",
       "      <td>SJ</td>\n",
       "      <td>78.22</td>\n",
       "      <td>15.64</td>\n",
       "      <td>24.80</td>\n",
       "      <td>68</td>\n",
       "      <td>90</td>\n",
       "      <td>8.05</td>\n",
       "    </tr>\n",
       "  </tbody>\n",
       "</table>\n",
       "</div>"
      ],
      "text/plain": [
       "   Unnamed: 0             City Country  Latitude  longitude  Temperature (F)  \\\n",
       "0           0  Arraial do Cabo      BR    -22.97     -42.03            77.00   \n",
       "1           1        Kondagaon      IN     19.60      81.67            66.47   \n",
       "2           2            Vardø      NO     70.37      31.11            33.80   \n",
       "3           3            Pevek      RU     69.70     170.31            18.73   \n",
       "4           4     Longyearbyen      SJ     78.22      15.64            24.80   \n",
       "\n",
       "   Humidity (%)  Cloudiness (%)  Wind Speed (MPH)  \n",
       "0            88              90              8.05  \n",
       "1            63               0              5.48  \n",
       "2            80              90             27.51  \n",
       "3            95              94              7.29  \n",
       "4            68              90              8.05  "
      ]
     },
     "execution_count": 16,
     "metadata": {},
     "output_type": "execute_result"
    }
   ],
   "source": [
    "# Store csv created in part one into a DataFrame\n",
    "#city_data_df = pd.read_csv(\"output_data/cities.csv\")\n",
    "city_data_df = pd.read_csv(\"../WeatherPy/output/weather_data.csv\")\n",
    "\n",
    "city_data_df.head()"
   ]
  },
  {
   "cell_type": "markdown",
   "metadata": {},
   "source": [
    "### Humidity Heatmap\n",
    "* Configure gmaps.\n",
    "* Use the Lat and Lng as locations and Humidity as the weight.\n",
    "* Add Heatmap layer to map."
   ]
  },
  {
   "cell_type": "code",
   "execution_count": 17,
   "metadata": {},
   "outputs": [
    {
     "name": "stdout",
     "output_type": "stream",
     "text": [
      "Unnamed: 0          831\n",
      "City                831\n",
      "Country             830\n",
      "Latitude            831\n",
      "longitude           831\n",
      "Temperature (F)     831\n",
      "Humidity (%)        831\n",
      "Cloudiness (%)      831\n",
      "Wind Speed (MPH)    831\n",
      "dtype: int64\n"
     ]
    }
   ],
   "source": [
    "print(city_data_df.count())\n",
    "# Configure gmaps\n",
    "gmaps.configure(api_key=g_key)"
   ]
  },
  {
   "cell_type": "code",
   "execution_count": 13,
   "metadata": {},
   "outputs": [
    {
     "data": {
      "application/vnd.jupyter.widget-view+json": {
       "model_id": "f60d75b50bac4f7a9afaea60b5d941af",
       "version_major": 2,
       "version_minor": 0
      },
      "text/plain": [
       "Figure(layout=FigureLayout(height='420px'))"
      ]
     },
     "metadata": {},
     "output_type": "display_data"
    }
   ],
   "source": [
    "# Heatmap of humidity\n",
    "locations = city_data_df[[\"Latitude\", \"longitude\"]]\n",
    "humidity = city_data_df[\"Humidity (%)\"]\n",
    "fig = gmaps.figure()\n",
    "heat_layer = gmaps.heatmap_layer(locations, weights=humidity, dissipating=False, max_intensity=300, point_radius=5)\n",
    "\n",
    "fig.add_layer(heat_layer)\n",
    "\n",
    "fig"
   ]
  },
  {
   "cell_type": "markdown",
   "metadata": {},
   "source": [
    "### Create new DataFrame fitting weather criteria\n",
    "* Narrow down the cities to fit weather conditions.\n",
    "* Drop any rows will null values."
   ]
  },
  {
   "cell_type": "code",
   "execution_count": 18,
   "metadata": {},
   "outputs": [
    {
     "data": {
      "text/html": [
       "<div>\n",
       "<style scoped>\n",
       "    .dataframe tbody tr th:only-of-type {\n",
       "        vertical-align: middle;\n",
       "    }\n",
       "\n",
       "    .dataframe tbody tr th {\n",
       "        vertical-align: top;\n",
       "    }\n",
       "\n",
       "    .dataframe thead th {\n",
       "        text-align: right;\n",
       "    }\n",
       "</style>\n",
       "<table border=\"1\" class=\"dataframe\">\n",
       "  <thead>\n",
       "    <tr style=\"text-align: right;\">\n",
       "      <th></th>\n",
       "      <th>Unnamed: 0</th>\n",
       "      <th>City</th>\n",
       "      <th>Country</th>\n",
       "      <th>Latitude</th>\n",
       "      <th>longitude</th>\n",
       "      <th>Temperature (F)</th>\n",
       "      <th>Humidity (%)</th>\n",
       "      <th>Cloudiness (%)</th>\n",
       "      <th>Wind Speed (MPH)</th>\n",
       "    </tr>\n",
       "  </thead>\n",
       "  <tbody>\n",
       "    <tr>\n",
       "      <th>8</th>\n",
       "      <td>8</td>\n",
       "      <td>Nārāyanpet</td>\n",
       "      <td>IN</td>\n",
       "      <td>16.73</td>\n",
       "      <td>77.50</td>\n",
       "      <td>76.35</td>\n",
       "      <td>42</td>\n",
       "      <td>0</td>\n",
       "      <td>7.36</td>\n",
       "    </tr>\n",
       "    <tr>\n",
       "      <th>61</th>\n",
       "      <td>61</td>\n",
       "      <td>Abu Kamal</td>\n",
       "      <td>SY</td>\n",
       "      <td>34.45</td>\n",
       "      <td>40.92</td>\n",
       "      <td>77.52</td>\n",
       "      <td>37</td>\n",
       "      <td>0</td>\n",
       "      <td>1.10</td>\n",
       "    </tr>\n",
       "    <tr>\n",
       "      <th>456</th>\n",
       "      <td>456</td>\n",
       "      <td>Bhādāsar</td>\n",
       "      <td>IN</td>\n",
       "      <td>28.28</td>\n",
       "      <td>74.32</td>\n",
       "      <td>78.26</td>\n",
       "      <td>16</td>\n",
       "      <td>0</td>\n",
       "      <td>7.49</td>\n",
       "    </tr>\n",
       "    <tr>\n",
       "      <th>575</th>\n",
       "      <td>575</td>\n",
       "      <td>Nan</td>\n",
       "      <td>TH</td>\n",
       "      <td>18.83</td>\n",
       "      <td>100.67</td>\n",
       "      <td>73.40</td>\n",
       "      <td>83</td>\n",
       "      <td>0</td>\n",
       "      <td>2.24</td>\n",
       "    </tr>\n",
       "    <tr>\n",
       "      <th>696</th>\n",
       "      <td>696</td>\n",
       "      <td>Calvinia</td>\n",
       "      <td>ZA</td>\n",
       "      <td>-31.47</td>\n",
       "      <td>19.78</td>\n",
       "      <td>71.62</td>\n",
       "      <td>20</td>\n",
       "      <td>0</td>\n",
       "      <td>8.32</td>\n",
       "    </tr>\n",
       "    <tr>\n",
       "      <th>741</th>\n",
       "      <td>741</td>\n",
       "      <td>Methóni</td>\n",
       "      <td>GR</td>\n",
       "      <td>36.82</td>\n",
       "      <td>21.70</td>\n",
       "      <td>72.66</td>\n",
       "      <td>43</td>\n",
       "      <td>0</td>\n",
       "      <td>4.70</td>\n",
       "    </tr>\n",
       "  </tbody>\n",
       "</table>\n",
       "</div>"
      ],
      "text/plain": [
       "     Unnamed: 0        City Country  Latitude  longitude  Temperature (F)  \\\n",
       "8             8  Nārāyanpet      IN     16.73      77.50            76.35   \n",
       "61           61   Abu Kamal      SY     34.45      40.92            77.52   \n",
       "456         456    Bhādāsar      IN     28.28      74.32            78.26   \n",
       "575         575         Nan      TH     18.83     100.67            73.40   \n",
       "696         696    Calvinia      ZA    -31.47      19.78            71.62   \n",
       "741         741     Methóni      GR     36.82      21.70            72.66   \n",
       "\n",
       "     Humidity (%)  Cloudiness (%)  Wind Speed (MPH)  \n",
       "8              42               0              7.36  \n",
       "61             37               0              1.10  \n",
       "456            16               0              7.49  \n",
       "575            83               0              2.24  \n",
       "696            20               0              8.32  \n",
       "741            43               0              4.70  "
      ]
     },
     "execution_count": 18,
     "metadata": {},
     "output_type": "execute_result"
    }
   ],
   "source": [
    "# Narrow down cities that fit criteria and drop any results with null values\n",
    "narrowed_city_df = city_data_df.loc[(city_data_df[\"Temperature (F)\"] < 80) & (city_data_df[\"Temperature (F)\"] > 70) \\\n",
    "                                    & (city_data_df[\"Wind Speed (MPH)\"] < 10) \\\n",
    "                                    & (city_data_df[\"Cloudiness (%)\"] == 0)].dropna()\n",
    "narrowed_city_df"
   ]
  },
  {
   "cell_type": "markdown",
   "metadata": {},
   "source": [
    "### Hotel Map\n",
    "* Store into variable named `hotel_df`.\n",
    "* Add a \"Hotel Name\" column to the DataFrame.\n",
    "* Set parameters to search for hotels with 5000 meters.\n",
    "* Hit the Google Places API for each city's coordinates.\n",
    "* Store the first Hotel result into the DataFrame.\n",
    "* Plot markers on top of the heatmap."
   ]
  },
  {
   "cell_type": "code",
   "execution_count": 19,
   "metadata": {},
   "outputs": [
    {
     "ename": "KeyError",
     "evalue": "\"['Lat', 'Lng'] not in index\"",
     "output_type": "error",
     "traceback": [
      "\u001b[1;31m---------------------------------------------------------------------------\u001b[0m",
      "\u001b[1;31mKeyError\u001b[0m                                  Traceback (most recent call last)",
      "\u001b[1;32m<ipython-input-19-bbbd5113b902>\u001b[0m in \u001b[0;36m<module>\u001b[1;34m\u001b[0m\n\u001b[0;32m      1\u001b[0m \u001b[1;31m# Create DataFrame called hotel_df to store hotel names along with city, country and coordinates\u001b[0m\u001b[1;33m\u001b[0m\u001b[1;33m\u001b[0m\u001b[1;33m\u001b[0m\u001b[0m\n\u001b[1;32m----> 2\u001b[1;33m \u001b[0mhotel_df\u001b[0m \u001b[1;33m=\u001b[0m \u001b[0mnarrowed_city_df\u001b[0m\u001b[1;33m[\u001b[0m\u001b[1;33m[\u001b[0m\u001b[1;34m\"City\"\u001b[0m\u001b[1;33m,\u001b[0m \u001b[1;34m\"Country\"\u001b[0m\u001b[1;33m,\u001b[0m \u001b[1;34m\"Lat\"\u001b[0m\u001b[1;33m,\u001b[0m \u001b[1;34m\"Lng\"\u001b[0m\u001b[1;33m]\u001b[0m\u001b[1;33m]\u001b[0m\u001b[1;33m.\u001b[0m\u001b[0mcopy\u001b[0m\u001b[1;33m(\u001b[0m\u001b[1;33m)\u001b[0m\u001b[1;33m\u001b[0m\u001b[1;33m\u001b[0m\u001b[0m\n\u001b[0m\u001b[0;32m      3\u001b[0m \u001b[0mhotel_df\u001b[0m\u001b[1;33m[\u001b[0m\u001b[1;34m\"Hotel Name\"\u001b[0m\u001b[1;33m]\u001b[0m \u001b[1;33m=\u001b[0m \u001b[1;34m\"\"\u001b[0m\u001b[1;33m\u001b[0m\u001b[1;33m\u001b[0m\u001b[0m\n\u001b[0;32m      4\u001b[0m \u001b[0mhotel_df\u001b[0m\u001b[1;33m\u001b[0m\u001b[1;33m\u001b[0m\u001b[0m\n",
      "\u001b[1;32m~\\anaconda3\\envs\\PythonData\\lib\\site-packages\\pandas\\core\\frame.py\u001b[0m in \u001b[0;36m__getitem__\u001b[1;34m(self, key)\u001b[0m\n\u001b[0;32m   2906\u001b[0m             \u001b[1;32mif\u001b[0m \u001b[0mis_iterator\u001b[0m\u001b[1;33m(\u001b[0m\u001b[0mkey\u001b[0m\u001b[1;33m)\u001b[0m\u001b[1;33m:\u001b[0m\u001b[1;33m\u001b[0m\u001b[1;33m\u001b[0m\u001b[0m\n\u001b[0;32m   2907\u001b[0m                 \u001b[0mkey\u001b[0m \u001b[1;33m=\u001b[0m \u001b[0mlist\u001b[0m\u001b[1;33m(\u001b[0m\u001b[0mkey\u001b[0m\u001b[1;33m)\u001b[0m\u001b[1;33m\u001b[0m\u001b[1;33m\u001b[0m\u001b[0m\n\u001b[1;32m-> 2908\u001b[1;33m             \u001b[0mindexer\u001b[0m \u001b[1;33m=\u001b[0m \u001b[0mself\u001b[0m\u001b[1;33m.\u001b[0m\u001b[0mloc\u001b[0m\u001b[1;33m.\u001b[0m\u001b[0m_get_listlike_indexer\u001b[0m\u001b[1;33m(\u001b[0m\u001b[0mkey\u001b[0m\u001b[1;33m,\u001b[0m \u001b[0maxis\u001b[0m\u001b[1;33m=\u001b[0m\u001b[1;36m1\u001b[0m\u001b[1;33m,\u001b[0m \u001b[0mraise_missing\u001b[0m\u001b[1;33m=\u001b[0m\u001b[1;32mTrue\u001b[0m\u001b[1;33m)\u001b[0m\u001b[1;33m[\u001b[0m\u001b[1;36m1\u001b[0m\u001b[1;33m]\u001b[0m\u001b[1;33m\u001b[0m\u001b[1;33m\u001b[0m\u001b[0m\n\u001b[0m\u001b[0;32m   2909\u001b[0m \u001b[1;33m\u001b[0m\u001b[0m\n\u001b[0;32m   2910\u001b[0m         \u001b[1;31m# take() does not accept boolean indexers\u001b[0m\u001b[1;33m\u001b[0m\u001b[1;33m\u001b[0m\u001b[1;33m\u001b[0m\u001b[0m\n",
      "\u001b[1;32m~\\anaconda3\\envs\\PythonData\\lib\\site-packages\\pandas\\core\\indexing.py\u001b[0m in \u001b[0;36m_get_listlike_indexer\u001b[1;34m(self, key, axis, raise_missing)\u001b[0m\n\u001b[0;32m   1252\u001b[0m             \u001b[0mkeyarr\u001b[0m\u001b[1;33m,\u001b[0m \u001b[0mindexer\u001b[0m\u001b[1;33m,\u001b[0m \u001b[0mnew_indexer\u001b[0m \u001b[1;33m=\u001b[0m \u001b[0max\u001b[0m\u001b[1;33m.\u001b[0m\u001b[0m_reindex_non_unique\u001b[0m\u001b[1;33m(\u001b[0m\u001b[0mkeyarr\u001b[0m\u001b[1;33m)\u001b[0m\u001b[1;33m\u001b[0m\u001b[1;33m\u001b[0m\u001b[0m\n\u001b[0;32m   1253\u001b[0m \u001b[1;33m\u001b[0m\u001b[0m\n\u001b[1;32m-> 1254\u001b[1;33m         \u001b[0mself\u001b[0m\u001b[1;33m.\u001b[0m\u001b[0m_validate_read_indexer\u001b[0m\u001b[1;33m(\u001b[0m\u001b[0mkeyarr\u001b[0m\u001b[1;33m,\u001b[0m \u001b[0mindexer\u001b[0m\u001b[1;33m,\u001b[0m \u001b[0maxis\u001b[0m\u001b[1;33m,\u001b[0m \u001b[0mraise_missing\u001b[0m\u001b[1;33m=\u001b[0m\u001b[0mraise_missing\u001b[0m\u001b[1;33m)\u001b[0m\u001b[1;33m\u001b[0m\u001b[1;33m\u001b[0m\u001b[0m\n\u001b[0m\u001b[0;32m   1255\u001b[0m         \u001b[1;32mreturn\u001b[0m \u001b[0mkeyarr\u001b[0m\u001b[1;33m,\u001b[0m \u001b[0mindexer\u001b[0m\u001b[1;33m\u001b[0m\u001b[1;33m\u001b[0m\u001b[0m\n\u001b[0;32m   1256\u001b[0m \u001b[1;33m\u001b[0m\u001b[0m\n",
      "\u001b[1;32m~\\anaconda3\\envs\\PythonData\\lib\\site-packages\\pandas\\core\\indexing.py\u001b[0m in \u001b[0;36m_validate_read_indexer\u001b[1;34m(self, key, indexer, axis, raise_missing)\u001b[0m\n\u001b[0;32m   1302\u001b[0m             \u001b[1;32mif\u001b[0m \u001b[0mraise_missing\u001b[0m\u001b[1;33m:\u001b[0m\u001b[1;33m\u001b[0m\u001b[1;33m\u001b[0m\u001b[0m\n\u001b[0;32m   1303\u001b[0m                 \u001b[0mnot_found\u001b[0m \u001b[1;33m=\u001b[0m \u001b[0mlist\u001b[0m\u001b[1;33m(\u001b[0m\u001b[0mset\u001b[0m\u001b[1;33m(\u001b[0m\u001b[0mkey\u001b[0m\u001b[1;33m)\u001b[0m \u001b[1;33m-\u001b[0m \u001b[0mset\u001b[0m\u001b[1;33m(\u001b[0m\u001b[0max\u001b[0m\u001b[1;33m)\u001b[0m\u001b[1;33m)\u001b[0m\u001b[1;33m\u001b[0m\u001b[1;33m\u001b[0m\u001b[0m\n\u001b[1;32m-> 1304\u001b[1;33m                 \u001b[1;32mraise\u001b[0m \u001b[0mKeyError\u001b[0m\u001b[1;33m(\u001b[0m\u001b[1;34mf\"{not_found} not in index\"\u001b[0m\u001b[1;33m)\u001b[0m\u001b[1;33m\u001b[0m\u001b[1;33m\u001b[0m\u001b[0m\n\u001b[0m\u001b[0;32m   1305\u001b[0m \u001b[1;33m\u001b[0m\u001b[0m\n\u001b[0;32m   1306\u001b[0m             \u001b[1;31m# we skip the warning on Categorical\u001b[0m\u001b[1;33m\u001b[0m\u001b[1;33m\u001b[0m\u001b[1;33m\u001b[0m\u001b[0m\n",
      "\u001b[1;31mKeyError\u001b[0m: \"['Lat', 'Lng'] not in index\""
     ]
    }
   ],
   "source": [
    "# Create DataFrame called hotel_df to store hotel names along with city, country and coordinates\n",
    "hotel_df = narrowed_city_df[[\"City\", \"Country\", \"Latitude\", \"longitude\"]].copy()\n",
    "hotel_df[\"Hotel Name\"] = \"\"\n",
    "hotel_df"
   ]
  },
  {
   "cell_type": "code",
   "execution_count": 7,
   "metadata": {},
   "outputs": [
    {
     "name": "stdout",
     "output_type": "stream",
     "text": [
      "Missing field/result... skipping.\n",
      "Missing field/result... skipping.\n"
     ]
    },
    {
     "data": {
      "text/html": [
       "<div>\n",
       "<style scoped>\n",
       "    .dataframe tbody tr th:only-of-type {\n",
       "        vertical-align: middle;\n",
       "    }\n",
       "\n",
       "    .dataframe tbody tr th {\n",
       "        vertical-align: top;\n",
       "    }\n",
       "\n",
       "    .dataframe thead th {\n",
       "        text-align: right;\n",
       "    }\n",
       "</style>\n",
       "<table border=\"1\" class=\"dataframe\">\n",
       "  <thead>\n",
       "    <tr style=\"text-align: right;\">\n",
       "      <th></th>\n",
       "      <th>City</th>\n",
       "      <th>Country</th>\n",
       "      <th>Lat</th>\n",
       "      <th>Lng</th>\n",
       "      <th>Hotel Name</th>\n",
       "    </tr>\n",
       "  </thead>\n",
       "  <tbody>\n",
       "    <tr>\n",
       "      <th>81</th>\n",
       "      <td>sakit</td>\n",
       "      <td>IN</td>\n",
       "      <td>27.45</td>\n",
       "      <td>78.82</td>\n",
       "      <td>Laucky house</td>\n",
       "    </tr>\n",
       "    <tr>\n",
       "      <th>103</th>\n",
       "      <td>ormara</td>\n",
       "      <td>PK</td>\n",
       "      <td>25.21</td>\n",
       "      <td>64.64</td>\n",
       "      <td></td>\n",
       "    </tr>\n",
       "    <tr>\n",
       "      <th>215</th>\n",
       "      <td>tura</td>\n",
       "      <td>IN</td>\n",
       "      <td>25.52</td>\n",
       "      <td>90.22</td>\n",
       "      <td>Hotel RIKMAN Continental</td>\n",
       "    </tr>\n",
       "    <tr>\n",
       "      <th>274</th>\n",
       "      <td>chabahar</td>\n",
       "      <td>IR</td>\n",
       "      <td>25.29</td>\n",
       "      <td>60.64</td>\n",
       "      <td>هتل گدروشیا</td>\n",
       "    </tr>\n",
       "    <tr>\n",
       "      <th>308</th>\n",
       "      <td>myitkyina</td>\n",
       "      <td>MM</td>\n",
       "      <td>25.38</td>\n",
       "      <td>97.40</td>\n",
       "      <td>Shwe Phyu Hotel</td>\n",
       "    </tr>\n",
       "    <tr>\n",
       "      <th>422</th>\n",
       "      <td>ghotki</td>\n",
       "      <td>PK</td>\n",
       "      <td>28.01</td>\n",
       "      <td>69.32</td>\n",
       "      <td>Mohalla Old Bazar</td>\n",
       "    </tr>\n",
       "    <tr>\n",
       "      <th>484</th>\n",
       "      <td>nalut</td>\n",
       "      <td>LY</td>\n",
       "      <td>30.33</td>\n",
       "      <td>10.85</td>\n",
       "      <td></td>\n",
       "    </tr>\n",
       "    <tr>\n",
       "      <th>544</th>\n",
       "      <td>sabha</td>\n",
       "      <td>LY</td>\n",
       "      <td>27.04</td>\n",
       "      <td>14.43</td>\n",
       "      <td>محطة ام الارانب -سبها مواصلات</td>\n",
       "    </tr>\n",
       "  </tbody>\n",
       "</table>\n",
       "</div>"
      ],
      "text/plain": [
       "          City Country    Lat    Lng                     Hotel Name\n",
       "81       sakit      IN  27.45  78.82                   Laucky house\n",
       "103     ormara      PK  25.21  64.64                               \n",
       "215       tura      IN  25.52  90.22       Hotel RIKMAN Continental\n",
       "274   chabahar      IR  25.29  60.64                    هتل گدروشیا\n",
       "308  myitkyina      MM  25.38  97.40                Shwe Phyu Hotel\n",
       "422     ghotki      PK  28.01  69.32              Mohalla Old Bazar\n",
       "484      nalut      LY  30.33  10.85                               \n",
       "544      sabha      LY  27.04  14.43  محطة ام الارانب -سبها مواصلات"
      ]
     },
     "execution_count": 7,
     "metadata": {},
     "output_type": "execute_result"
    }
   ],
   "source": [
    "# Set parameters to search for a hotel\n",
    "params = {\n",
    "    \"radius\": 5000,\n",
    "    \"types\": \"lodging\",\n",
    "    \"key\": g_key\n",
    "}\n",
    "\n",
    "# Iterate through \n",
    "for index, row in hotel_df.iterrows():\n",
    "    # get lat, lng from df\n",
    "    lat = row[\"Lat\"]\n",
    "    lng = row[\"Lng\"]\n",
    "    \n",
    "    params[\"location\"] = f\"{lat},{lng}\"\n",
    "    \n",
    "    # Use the search term: \"Hotel\" and our lat/lng\n",
    "    base_url = \"https://maps.googleapis.com/maps/api/place/nearbysearch/json\"\n",
    "\n",
    "    # make request and print url\n",
    "    name_address = requests.get(base_url, params=params)\n",
    "    \n",
    "    # convert to json\n",
    "    name_address = name_address.json()\n",
    "    \n",
    "    # Grab the first hotel from the results and store the name\n",
    "    try:\n",
    "        hotel_df.loc[index, \"Hotel Name\"] = name_address[\"results\"][0][\"name\"]\n",
    "    except (KeyError, IndexError):\n",
    "        print(\"Missing field/result... skipping.\")\n",
    "\n",
    "hotel_df"
   ]
  },
  {
   "cell_type": "code",
   "execution_count": 8,
   "metadata": {},
   "outputs": [],
   "source": [
    "# NOTE: Do not change any of the code in this cell\n",
    "\n",
    "# Using the template add the hotel marks to the heatmap\n",
    "info_box_template = \"\"\"\n",
    "<dl>\n",
    "<dt>Name</dt><dd>{Hotel Name}</dd>\n",
    "<dt>City</dt><dd>{City}</dd>\n",
    "<dt>Country</dt><dd>{Country}</dd>\n",
    "</dl>\n",
    "\"\"\"\n",
    "# Store the DataFrame Row\n",
    "hotel_info = [info_box_template.format(**row) for index, row in hotel_df.iterrows()]\n",
    "locations = hotel_df[[\"Lat\", \"Lng\"]]"
   ]
  },
  {
   "cell_type": "code",
   "execution_count": 9,
   "metadata": {},
   "outputs": [
    {
     "data": {
      "application/vnd.jupyter.widget-view+json": {
       "model_id": "551aabb9e3ee4911af2be5607d102bb3",
       "version_major": 2,
       "version_minor": 0
      },
      "text/plain": [
       "Figure(layout=FigureLayout(height='420px'))"
      ]
     },
     "metadata": {},
     "output_type": "display_data"
    }
   ],
   "source": [
    "# Add marker layer ontop of heat map\n",
    "marker_layer = gmaps.marker_layer(locations, info_box_content=hotel_info)\n",
    "fig.add_layer(marker_layer)\n",
    "\n",
    "# Display figure\n",
    "fig"
   ]
  },
  {
   "cell_type": "code",
   "execution_count": null,
   "metadata": {},
   "outputs": [],
   "source": []
  }
 ],
 "metadata": {
  "kernelspec": {
   "display_name": "Python [conda env:PythonData] *",
   "language": "python",
   "name": "conda-env-PythonData-py"
  },
  "language_info": {
   "codemirror_mode": {
    "name": "ipython",
    "version": 3
   },
   "file_extension": ".py",
   "mimetype": "text/x-python",
   "name": "python",
   "nbconvert_exporter": "python",
   "pygments_lexer": "ipython3",
   "version": "3.6.12"
  },
  "latex_envs": {
   "LaTeX_envs_menu_present": true,
   "autoclose": false,
   "autocomplete": true,
   "bibliofile": "biblio.bib",
   "cite_by": "apalike",
   "current_citInitial": 1,
   "eqLabelWithNumbers": true,
   "eqNumInitial": 1,
   "hotkeys": {
    "equation": "Ctrl-E",
    "itemize": "Ctrl-I"
   },
   "labels_anchors": false,
   "latex_user_defs": false,
   "report_style_numbering": false,
   "user_envs_cfg": false
  }
 },
 "nbformat": 4,
 "nbformat_minor": 2
}
